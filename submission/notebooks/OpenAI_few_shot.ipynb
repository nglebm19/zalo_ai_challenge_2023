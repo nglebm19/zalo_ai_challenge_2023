{
  "cells": [
    {
      "cell_type": "code",
      "execution_count": 1,
      "metadata": {
        "id": "l3rHrUlD-ztT"
      },
      "outputs": [],
      "source": [
        "import os\n",
        "import json\n",
        "from getpass import getpass"
      ]
    },
    {
      "cell_type": "code",
      "execution_count": 2,
      "metadata": {
        "colab": {
          "base_uri": "https://localhost:8080/"
        },
        "id": "rG1D6eA-B6ox",
        "outputId": "7d768f0a-9e22-4ecf-85c1-10fa1dde7eff"
      },
      "outputs": [],
      "source": [
        "os.environ['OPENAI_API_KEY'] = getpass()"
      ]
    },
    {
      "cell_type": "code",
      "execution_count": 3,
      "metadata": {
        "id": "gZ1p05KpCBCk"
      },
      "outputs": [],
      "source": [
        "from openai import OpenAI\n",
        "\n",
        "client = OpenAI()"
      ]
    },
    {
      "cell_type": "code",
      "execution_count": 5,
      "metadata": {
        "id": "quxRGkqa4SYh"
      },
      "outputs": [],
      "source": [
        "with open(\"../data/math_test_private.json\", encoding=\"utf-8\") as f:\n",
        "    data = json.load(f)"
      ]
    },
    {
      "cell_type": "code",
      "execution_count": 6,
      "metadata": {
        "id": "oiTWMc9_Jaq0"
      },
      "outputs": [],
      "source": [
        "prime = [\n",
        "    (\"Một xưởng may trong tuần thứ nhất thực hiện được 3/8 kế hoạch tháng, tuần thứ hai thực hiện được 3/16 kế hoạch, trong tuần thứ ba thực hiện được 1/3 kế hoạch. Để hoàn thành kế hoạch của tháng thì trong tuần cuối xưởng phải thực hiện bao nhiêu phần kế hoạch?\\nA. 5/48\\nB. 43/48\\nC. 11/48\\nD. 27/48\", \"A. 5/48\"),\n",
        "    (\"Mệnh đề nào sau đây là phủ định của mệnh đề 'Mọi động vật đều di chuyển'?A. Mọi động vật đều không di chuyển\\nB. Mọi động vật đều đứng yên\\nC. Có ít nhất một động vật không di chuyển\\nD. Có ít nhất một động vật di chuyển\", \"C. Có ít nhất một động vật không di chuyển\"),\n",
        "    (\"Một bài trắc nghiệm khách quan có 10 câu hỏi. Mỗi câu có 4 phương án trả lời. Có bao nhiêu phương án trả lời?A. 40\\nB. 10^4\\nC. 4^10\\nD. 4\", \"C. 4^10\")\n",
        "]"
      ]
    },
    {
      "cell_type": "code",
      "execution_count": 7,
      "metadata": {
        "id": "sSXPiGHc94z8"
      },
      "outputs": [],
      "source": [
        "outputs = []\n",
        "chat_completions = []"
      ]
    },
    {
      "cell_type": "code",
      "execution_count": 9,
      "metadata": {
        "colab": {
          "base_uri": "https://localhost:8080/"
        },
        "id": "qfV7Ryxy--gZ",
        "outputId": "79126a47-47aa-48a7-cce0-3c6db074803e"
      },
      "outputs": [
        {
          "name": "stdout",
          "output_type": "stream",
          "text": [
            "At datapoint 0\n",
            "\n",
            "Kết quả của 1,05 m^{3} = …….. dm^{3} ?\n",
            "A. 105\n",
            "B. 1005\n",
            "C. 1050\n",
            "D. 1500 \n",
            "\n"
          ]
        },
        {
          "ename": "RateLimitError",
          "evalue": "Error code: 429 - {'error': {'message': 'You exceeded your current quota, please check your plan and billing details.', 'type': 'insufficient_quota', 'param': None, 'code': 'insufficient_quota'}}",
          "output_type": "error",
          "traceback": [
            "\u001b[1;31m---------------------------------------------------------------------------\u001b[0m",
            "\u001b[1;31mRateLimitError\u001b[0m                            Traceback (most recent call last)",
            "\u001b[1;32mc:\\Users\\cuoir\\GitRepository\\ZaloAIChallenge2023\\vietai_submission\\notebooks\\OpenAI_few_shot.ipynb Cell 7\u001b[0m line \u001b[0;36m9\n\u001b[0;32m      <a href='vscode-notebook-cell:/c%3A/Users/cuoir/GitRepository/ZaloAIChallenge2023/vietai_submission/notebooks/OpenAI_few_shot.ipynb#X10sZmlsZQ%3D%3D?line=5'>6</a>\u001b[0m \u001b[39mprint\u001b[39m(\u001b[39mf\u001b[39m\u001b[39m\"\u001b[39m\u001b[39mAt datapoint \u001b[39m\u001b[39m{\u001b[39;00midx\u001b[39m}\u001b[39;00m\u001b[39m\\n\u001b[39;00m\u001b[39m\"\u001b[39m)\n\u001b[0;32m      <a href='vscode-notebook-cell:/c%3A/Users/cuoir/GitRepository/ZaloAIChallenge2023/vietai_submission/notebooks/OpenAI_few_shot.ipynb#X10sZmlsZQ%3D%3D?line=6'>7</a>\u001b[0m \u001b[39mprint\u001b[39m(message,\u001b[39m\"\u001b[39m\u001b[39m\\n\u001b[39;00m\u001b[39m\"\u001b[39m)\n\u001b[1;32m----> <a href='vscode-notebook-cell:/c%3A/Users/cuoir/GitRepository/ZaloAIChallenge2023/vietai_submission/notebooks/OpenAI_few_shot.ipynb#X10sZmlsZQ%3D%3D?line=8'>9</a>\u001b[0m response \u001b[39m=\u001b[39m client\u001b[39m.\u001b[39;49mchat\u001b[39m.\u001b[39;49mcompletions\u001b[39m.\u001b[39;49mcreate(\n\u001b[0;32m     <a href='vscode-notebook-cell:/c%3A/Users/cuoir/GitRepository/ZaloAIChallenge2023/vietai_submission/notebooks/OpenAI_few_shot.ipynb#X10sZmlsZQ%3D%3D?line=9'>10</a>\u001b[0m     model\u001b[39m=\u001b[39;49m\u001b[39m'\u001b[39;49m\u001b[39mgpt-3.5-turbo-16k\u001b[39;49m\u001b[39m'\u001b[39;49m,\n\u001b[0;32m     <a href='vscode-notebook-cell:/c%3A/Users/cuoir/GitRepository/ZaloAIChallenge2023/vietai_submission/notebooks/OpenAI_few_shot.ipynb#X10sZmlsZQ%3D%3D?line=10'>11</a>\u001b[0m     messages\u001b[39m=\u001b[39;49m[\n\u001b[0;32m     <a href='vscode-notebook-cell:/c%3A/Users/cuoir/GitRepository/ZaloAIChallenge2023/vietai_submission/notebooks/OpenAI_few_shot.ipynb#X10sZmlsZQ%3D%3D?line=11'>12</a>\u001b[0m         {\u001b[39m\"\u001b[39;49m\u001b[39mrole\u001b[39;49m\u001b[39m\"\u001b[39;49m: \u001b[39m\"\u001b[39;49m\u001b[39msystem\u001b[39;49m\u001b[39m\"\u001b[39;49m, \u001b[39m\"\u001b[39;49m\u001b[39mcontent\u001b[39;49m\u001b[39m\"\u001b[39;49m: \u001b[39m\"\u001b[39;49m\u001b[39mYou are a helpful assistant that solves Vietnamese word math problem in the form of multi-choice questions, specifically you have to choose the one correct option among multiple options and your reply must contain no more information other than the chosen option itself.\u001b[39;49m\u001b[39m\"\u001b[39;49m},\n\u001b[0;32m     <a href='vscode-notebook-cell:/c%3A/Users/cuoir/GitRepository/ZaloAIChallenge2023/vietai_submission/notebooks/OpenAI_few_shot.ipynb#X10sZmlsZQ%3D%3D?line=12'>13</a>\u001b[0m         {\u001b[39m\"\u001b[39;49m\u001b[39mrole\u001b[39;49m\u001b[39m\"\u001b[39;49m: \u001b[39m\"\u001b[39;49m\u001b[39msystem\u001b[39;49m\u001b[39m\"\u001b[39;49m, \u001b[39m\"\u001b[39;49m\u001b[39mname\u001b[39;49m\u001b[39m\"\u001b[39;49m:\u001b[39m\"\u001b[39;49m\u001b[39mexample_user\u001b[39;49m\u001b[39m\"\u001b[39;49m, \u001b[39m\"\u001b[39;49m\u001b[39mcontent\u001b[39;49m\u001b[39m\"\u001b[39;49m: prime[\u001b[39m0\u001b[39;49m][\u001b[39m0\u001b[39;49m]},\n\u001b[0;32m     <a href='vscode-notebook-cell:/c%3A/Users/cuoir/GitRepository/ZaloAIChallenge2023/vietai_submission/notebooks/OpenAI_few_shot.ipynb#X10sZmlsZQ%3D%3D?line=13'>14</a>\u001b[0m         {\u001b[39m\"\u001b[39;49m\u001b[39mrole\u001b[39;49m\u001b[39m\"\u001b[39;49m: \u001b[39m\"\u001b[39;49m\u001b[39msystem\u001b[39;49m\u001b[39m\"\u001b[39;49m, \u001b[39m\"\u001b[39;49m\u001b[39mname\u001b[39;49m\u001b[39m\"\u001b[39;49m: \u001b[39m\"\u001b[39;49m\u001b[39mexample_assistant\u001b[39;49m\u001b[39m\"\u001b[39;49m, \u001b[39m\"\u001b[39;49m\u001b[39mcontent\u001b[39;49m\u001b[39m\"\u001b[39;49m: prime[\u001b[39m0\u001b[39;49m][\u001b[39m1\u001b[39;49m]},\n\u001b[0;32m     <a href='vscode-notebook-cell:/c%3A/Users/cuoir/GitRepository/ZaloAIChallenge2023/vietai_submission/notebooks/OpenAI_few_shot.ipynb#X10sZmlsZQ%3D%3D?line=14'>15</a>\u001b[0m         {\u001b[39m\"\u001b[39;49m\u001b[39mrole\u001b[39;49m\u001b[39m\"\u001b[39;49m: \u001b[39m\"\u001b[39;49m\u001b[39msystem\u001b[39;49m\u001b[39m\"\u001b[39;49m, \u001b[39m\"\u001b[39;49m\u001b[39mname\u001b[39;49m\u001b[39m\"\u001b[39;49m:\u001b[39m\"\u001b[39;49m\u001b[39mexample_user\u001b[39;49m\u001b[39m\"\u001b[39;49m, \u001b[39m\"\u001b[39;49m\u001b[39mcontent\u001b[39;49m\u001b[39m\"\u001b[39;49m: prime[\u001b[39m1\u001b[39;49m][\u001b[39m0\u001b[39;49m]},\n\u001b[0;32m     <a href='vscode-notebook-cell:/c%3A/Users/cuoir/GitRepository/ZaloAIChallenge2023/vietai_submission/notebooks/OpenAI_few_shot.ipynb#X10sZmlsZQ%3D%3D?line=15'>16</a>\u001b[0m         {\u001b[39m\"\u001b[39;49m\u001b[39mrole\u001b[39;49m\u001b[39m\"\u001b[39;49m: \u001b[39m\"\u001b[39;49m\u001b[39msystem\u001b[39;49m\u001b[39m\"\u001b[39;49m, \u001b[39m\"\u001b[39;49m\u001b[39mname\u001b[39;49m\u001b[39m\"\u001b[39;49m: \u001b[39m\"\u001b[39;49m\u001b[39mexample_assistant\u001b[39;49m\u001b[39m\"\u001b[39;49m, \u001b[39m\"\u001b[39;49m\u001b[39mcontent\u001b[39;49m\u001b[39m\"\u001b[39;49m: prime[\u001b[39m1\u001b[39;49m][\u001b[39m1\u001b[39;49m]},\n\u001b[0;32m     <a href='vscode-notebook-cell:/c%3A/Users/cuoir/GitRepository/ZaloAIChallenge2023/vietai_submission/notebooks/OpenAI_few_shot.ipynb#X10sZmlsZQ%3D%3D?line=16'>17</a>\u001b[0m         {\u001b[39m\"\u001b[39;49m\u001b[39mrole\u001b[39;49m\u001b[39m\"\u001b[39;49m: \u001b[39m\"\u001b[39;49m\u001b[39msystem\u001b[39;49m\u001b[39m\"\u001b[39;49m, \u001b[39m\"\u001b[39;49m\u001b[39mname\u001b[39;49m\u001b[39m\"\u001b[39;49m:\u001b[39m\"\u001b[39;49m\u001b[39mexample_user\u001b[39;49m\u001b[39m\"\u001b[39;49m, \u001b[39m\"\u001b[39;49m\u001b[39mcontent\u001b[39;49m\u001b[39m\"\u001b[39;49m: prime[\u001b[39m2\u001b[39;49m][\u001b[39m0\u001b[39;49m]},\n\u001b[0;32m     <a href='vscode-notebook-cell:/c%3A/Users/cuoir/GitRepository/ZaloAIChallenge2023/vietai_submission/notebooks/OpenAI_few_shot.ipynb#X10sZmlsZQ%3D%3D?line=17'>18</a>\u001b[0m         {\u001b[39m\"\u001b[39;49m\u001b[39mrole\u001b[39;49m\u001b[39m\"\u001b[39;49m: \u001b[39m\"\u001b[39;49m\u001b[39msystem\u001b[39;49m\u001b[39m\"\u001b[39;49m, \u001b[39m\"\u001b[39;49m\u001b[39mname\u001b[39;49m\u001b[39m\"\u001b[39;49m: \u001b[39m\"\u001b[39;49m\u001b[39mexample_assistant\u001b[39;49m\u001b[39m\"\u001b[39;49m, \u001b[39m\"\u001b[39;49m\u001b[39mcontent\u001b[39;49m\u001b[39m\"\u001b[39;49m: prime[\u001b[39m2\u001b[39;49m][\u001b[39m1\u001b[39;49m]},\n\u001b[0;32m     <a href='vscode-notebook-cell:/c%3A/Users/cuoir/GitRepository/ZaloAIChallenge2023/vietai_submission/notebooks/OpenAI_few_shot.ipynb#X10sZmlsZQ%3D%3D?line=18'>19</a>\u001b[0m         {\u001b[39m\"\u001b[39;49m\u001b[39mrole\u001b[39;49m\u001b[39m\"\u001b[39;49m: \u001b[39m\"\u001b[39;49m\u001b[39muser\u001b[39;49m\u001b[39m\"\u001b[39;49m, \u001b[39m\"\u001b[39;49m\u001b[39mcontent\u001b[39;49m\u001b[39m\"\u001b[39;49m: message},\n\u001b[0;32m     <a href='vscode-notebook-cell:/c%3A/Users/cuoir/GitRepository/ZaloAIChallenge2023/vietai_submission/notebooks/OpenAI_few_shot.ipynb#X10sZmlsZQ%3D%3D?line=19'>20</a>\u001b[0m     ],\n\u001b[0;32m     <a href='vscode-notebook-cell:/c%3A/Users/cuoir/GitRepository/ZaloAIChallenge2023/vietai_submission/notebooks/OpenAI_few_shot.ipynb#X10sZmlsZQ%3D%3D?line=20'>21</a>\u001b[0m     temperature\u001b[39m=\u001b[39;49m\u001b[39m0\u001b[39;49m,\n\u001b[0;32m     <a href='vscode-notebook-cell:/c%3A/Users/cuoir/GitRepository/ZaloAIChallenge2023/vietai_submission/notebooks/OpenAI_few_shot.ipynb#X10sZmlsZQ%3D%3D?line=21'>22</a>\u001b[0m )\n\u001b[0;32m     <a href='vscode-notebook-cell:/c%3A/Users/cuoir/GitRepository/ZaloAIChallenge2023/vietai_submission/notebooks/OpenAI_few_shot.ipynb#X10sZmlsZQ%3D%3D?line=23'>24</a>\u001b[0m chat_completions\u001b[39m.\u001b[39mappend(response)\n\u001b[0;32m     <a href='vscode-notebook-cell:/c%3A/Users/cuoir/GitRepository/ZaloAIChallenge2023/vietai_submission/notebooks/OpenAI_few_shot.ipynb#X10sZmlsZQ%3D%3D?line=24'>25</a>\u001b[0m output \u001b[39m=\u001b[39m {}\n",
            "File \u001b[1;32mc:\\Users\\cuoir\\AppData\\Local\\Programs\\Python\\Python311\\Lib\\site-packages\\openai\\_utils\\_utils.py:299\u001b[0m, in \u001b[0;36mrequired_args.<locals>.inner.<locals>.wrapper\u001b[1;34m(*args, **kwargs)\u001b[0m\n\u001b[0;32m    297\u001b[0m             msg \u001b[39m=\u001b[39m \u001b[39mf\u001b[39m\u001b[39m\"\u001b[39m\u001b[39mMissing required argument: \u001b[39m\u001b[39m{\u001b[39;00mquote(missing[\u001b[39m0\u001b[39m])\u001b[39m}\u001b[39;00m\u001b[39m\"\u001b[39m\n\u001b[0;32m    298\u001b[0m     \u001b[39mraise\u001b[39;00m \u001b[39mTypeError\u001b[39;00m(msg)\n\u001b[1;32m--> 299\u001b[0m \u001b[39mreturn\u001b[39;00m func(\u001b[39m*\u001b[39;49margs, \u001b[39m*\u001b[39;49m\u001b[39m*\u001b[39;49mkwargs)\n",
            "File \u001b[1;32mc:\\Users\\cuoir\\AppData\\Local\\Programs\\Python\\Python311\\Lib\\site-packages\\openai\\resources\\chat\\completions.py:598\u001b[0m, in \u001b[0;36mCompletions.create\u001b[1;34m(self, messages, model, frequency_penalty, function_call, functions, logit_bias, max_tokens, n, presence_penalty, response_format, seed, stop, stream, temperature, tool_choice, tools, top_p, user, extra_headers, extra_query, extra_body, timeout)\u001b[0m\n\u001b[0;32m    551\u001b[0m \u001b[39m@required_args\u001b[39m([\u001b[39m\"\u001b[39m\u001b[39mmessages\u001b[39m\u001b[39m\"\u001b[39m, \u001b[39m\"\u001b[39m\u001b[39mmodel\u001b[39m\u001b[39m\"\u001b[39m], [\u001b[39m\"\u001b[39m\u001b[39mmessages\u001b[39m\u001b[39m\"\u001b[39m, \u001b[39m\"\u001b[39m\u001b[39mmodel\u001b[39m\u001b[39m\"\u001b[39m, \u001b[39m\"\u001b[39m\u001b[39mstream\u001b[39m\u001b[39m\"\u001b[39m])\n\u001b[0;32m    552\u001b[0m \u001b[39mdef\u001b[39;00m \u001b[39mcreate\u001b[39m(\n\u001b[0;32m    553\u001b[0m     \u001b[39mself\u001b[39m,\n\u001b[1;32m   (...)\u001b[0m\n\u001b[0;32m    596\u001b[0m     timeout: \u001b[39mfloat\u001b[39m \u001b[39m|\u001b[39m httpx\u001b[39m.\u001b[39mTimeout \u001b[39m|\u001b[39m \u001b[39mNone\u001b[39;00m \u001b[39m|\u001b[39m NotGiven \u001b[39m=\u001b[39m NOT_GIVEN,\n\u001b[0;32m    597\u001b[0m ) \u001b[39m-\u001b[39m\u001b[39m>\u001b[39m ChatCompletion \u001b[39m|\u001b[39m Stream[ChatCompletionChunk]:\n\u001b[1;32m--> 598\u001b[0m     \u001b[39mreturn\u001b[39;00m \u001b[39mself\u001b[39;49m\u001b[39m.\u001b[39;49m_post(\n\u001b[0;32m    599\u001b[0m         \u001b[39m\"\u001b[39;49m\u001b[39m/chat/completions\u001b[39;49m\u001b[39m\"\u001b[39;49m,\n\u001b[0;32m    600\u001b[0m         body\u001b[39m=\u001b[39;49mmaybe_transform(\n\u001b[0;32m    601\u001b[0m             {\n\u001b[0;32m    602\u001b[0m                 \u001b[39m\"\u001b[39;49m\u001b[39mmessages\u001b[39;49m\u001b[39m\"\u001b[39;49m: messages,\n\u001b[0;32m    603\u001b[0m                 \u001b[39m\"\u001b[39;49m\u001b[39mmodel\u001b[39;49m\u001b[39m\"\u001b[39;49m: model,\n\u001b[0;32m    604\u001b[0m                 \u001b[39m\"\u001b[39;49m\u001b[39mfrequency_penalty\u001b[39;49m\u001b[39m\"\u001b[39;49m: frequency_penalty,\n\u001b[0;32m    605\u001b[0m                 \u001b[39m\"\u001b[39;49m\u001b[39mfunction_call\u001b[39;49m\u001b[39m\"\u001b[39;49m: function_call,\n\u001b[0;32m    606\u001b[0m                 \u001b[39m\"\u001b[39;49m\u001b[39mfunctions\u001b[39;49m\u001b[39m\"\u001b[39;49m: functions,\n\u001b[0;32m    607\u001b[0m                 \u001b[39m\"\u001b[39;49m\u001b[39mlogit_bias\u001b[39;49m\u001b[39m\"\u001b[39;49m: logit_bias,\n\u001b[0;32m    608\u001b[0m                 \u001b[39m\"\u001b[39;49m\u001b[39mmax_tokens\u001b[39;49m\u001b[39m\"\u001b[39;49m: max_tokens,\n\u001b[0;32m    609\u001b[0m                 \u001b[39m\"\u001b[39;49m\u001b[39mn\u001b[39;49m\u001b[39m\"\u001b[39;49m: n,\n\u001b[0;32m    610\u001b[0m                 \u001b[39m\"\u001b[39;49m\u001b[39mpresence_penalty\u001b[39;49m\u001b[39m\"\u001b[39;49m: presence_penalty,\n\u001b[0;32m    611\u001b[0m                 \u001b[39m\"\u001b[39;49m\u001b[39mresponse_format\u001b[39;49m\u001b[39m\"\u001b[39;49m: response_format,\n\u001b[0;32m    612\u001b[0m                 \u001b[39m\"\u001b[39;49m\u001b[39mseed\u001b[39;49m\u001b[39m\"\u001b[39;49m: seed,\n\u001b[0;32m    613\u001b[0m                 \u001b[39m\"\u001b[39;49m\u001b[39mstop\u001b[39;49m\u001b[39m\"\u001b[39;49m: stop,\n\u001b[0;32m    614\u001b[0m                 \u001b[39m\"\u001b[39;49m\u001b[39mstream\u001b[39;49m\u001b[39m\"\u001b[39;49m: stream,\n\u001b[0;32m    615\u001b[0m                 \u001b[39m\"\u001b[39;49m\u001b[39mtemperature\u001b[39;49m\u001b[39m\"\u001b[39;49m: temperature,\n\u001b[0;32m    616\u001b[0m                 \u001b[39m\"\u001b[39;49m\u001b[39mtool_choice\u001b[39;49m\u001b[39m\"\u001b[39;49m: tool_choice,\n\u001b[0;32m    617\u001b[0m                 \u001b[39m\"\u001b[39;49m\u001b[39mtools\u001b[39;49m\u001b[39m\"\u001b[39;49m: tools,\n\u001b[0;32m    618\u001b[0m                 \u001b[39m\"\u001b[39;49m\u001b[39mtop_p\u001b[39;49m\u001b[39m\"\u001b[39;49m: top_p,\n\u001b[0;32m    619\u001b[0m                 \u001b[39m\"\u001b[39;49m\u001b[39muser\u001b[39;49m\u001b[39m\"\u001b[39;49m: user,\n\u001b[0;32m    620\u001b[0m             },\n\u001b[0;32m    621\u001b[0m             completion_create_params\u001b[39m.\u001b[39;49mCompletionCreateParams,\n\u001b[0;32m    622\u001b[0m         ),\n\u001b[0;32m    623\u001b[0m         options\u001b[39m=\u001b[39;49mmake_request_options(\n\u001b[0;32m    624\u001b[0m             extra_headers\u001b[39m=\u001b[39;49mextra_headers, extra_query\u001b[39m=\u001b[39;49mextra_query, extra_body\u001b[39m=\u001b[39;49mextra_body, timeout\u001b[39m=\u001b[39;49mtimeout\n\u001b[0;32m    625\u001b[0m         ),\n\u001b[0;32m    626\u001b[0m         cast_to\u001b[39m=\u001b[39;49mChatCompletion,\n\u001b[0;32m    627\u001b[0m         stream\u001b[39m=\u001b[39;49mstream \u001b[39mor\u001b[39;49;00m \u001b[39mFalse\u001b[39;49;00m,\n\u001b[0;32m    628\u001b[0m         stream_cls\u001b[39m=\u001b[39;49mStream[ChatCompletionChunk],\n\u001b[0;32m    629\u001b[0m     )\n",
            "File \u001b[1;32mc:\\Users\\cuoir\\AppData\\Local\\Programs\\Python\\Python311\\Lib\\site-packages\\openai\\_base_client.py:1063\u001b[0m, in \u001b[0;36mSyncAPIClient.post\u001b[1;34m(self, path, cast_to, body, options, files, stream, stream_cls)\u001b[0m\n\u001b[0;32m   1049\u001b[0m \u001b[39mdef\u001b[39;00m \u001b[39mpost\u001b[39m(\n\u001b[0;32m   1050\u001b[0m     \u001b[39mself\u001b[39m,\n\u001b[0;32m   1051\u001b[0m     path: \u001b[39mstr\u001b[39m,\n\u001b[1;32m   (...)\u001b[0m\n\u001b[0;32m   1058\u001b[0m     stream_cls: \u001b[39mtype\u001b[39m[_StreamT] \u001b[39m|\u001b[39m \u001b[39mNone\u001b[39;00m \u001b[39m=\u001b[39m \u001b[39mNone\u001b[39;00m,\n\u001b[0;32m   1059\u001b[0m ) \u001b[39m-\u001b[39m\u001b[39m>\u001b[39m ResponseT \u001b[39m|\u001b[39m _StreamT:\n\u001b[0;32m   1060\u001b[0m     opts \u001b[39m=\u001b[39m FinalRequestOptions\u001b[39m.\u001b[39mconstruct(\n\u001b[0;32m   1061\u001b[0m         method\u001b[39m=\u001b[39m\u001b[39m\"\u001b[39m\u001b[39mpost\u001b[39m\u001b[39m\"\u001b[39m, url\u001b[39m=\u001b[39mpath, json_data\u001b[39m=\u001b[39mbody, files\u001b[39m=\u001b[39mto_httpx_files(files), \u001b[39m*\u001b[39m\u001b[39m*\u001b[39moptions\n\u001b[0;32m   1062\u001b[0m     )\n\u001b[1;32m-> 1063\u001b[0m     \u001b[39mreturn\u001b[39;00m cast(ResponseT, \u001b[39mself\u001b[39;49m\u001b[39m.\u001b[39;49mrequest(cast_to, opts, stream\u001b[39m=\u001b[39;49mstream, stream_cls\u001b[39m=\u001b[39;49mstream_cls))\n",
            "File \u001b[1;32mc:\\Users\\cuoir\\AppData\\Local\\Programs\\Python\\Python311\\Lib\\site-packages\\openai\\_base_client.py:842\u001b[0m, in \u001b[0;36mSyncAPIClient.request\u001b[1;34m(self, cast_to, options, remaining_retries, stream, stream_cls)\u001b[0m\n\u001b[0;32m    833\u001b[0m \u001b[39mdef\u001b[39;00m \u001b[39mrequest\u001b[39m(\n\u001b[0;32m    834\u001b[0m     \u001b[39mself\u001b[39m,\n\u001b[0;32m    835\u001b[0m     cast_to: Type[ResponseT],\n\u001b[1;32m   (...)\u001b[0m\n\u001b[0;32m    840\u001b[0m     stream_cls: \u001b[39mtype\u001b[39m[_StreamT] \u001b[39m|\u001b[39m \u001b[39mNone\u001b[39;00m \u001b[39m=\u001b[39m \u001b[39mNone\u001b[39;00m,\n\u001b[0;32m    841\u001b[0m ) \u001b[39m-\u001b[39m\u001b[39m>\u001b[39m ResponseT \u001b[39m|\u001b[39m _StreamT:\n\u001b[1;32m--> 842\u001b[0m     \u001b[39mreturn\u001b[39;00m \u001b[39mself\u001b[39;49m\u001b[39m.\u001b[39;49m_request(\n\u001b[0;32m    843\u001b[0m         cast_to\u001b[39m=\u001b[39;49mcast_to,\n\u001b[0;32m    844\u001b[0m         options\u001b[39m=\u001b[39;49moptions,\n\u001b[0;32m    845\u001b[0m         stream\u001b[39m=\u001b[39;49mstream,\n\u001b[0;32m    846\u001b[0m         stream_cls\u001b[39m=\u001b[39;49mstream_cls,\n\u001b[0;32m    847\u001b[0m         remaining_retries\u001b[39m=\u001b[39;49mremaining_retries,\n\u001b[0;32m    848\u001b[0m     )\n",
            "File \u001b[1;32mc:\\Users\\cuoir\\AppData\\Local\\Programs\\Python\\Python311\\Lib\\site-packages\\openai\\_base_client.py:873\u001b[0m, in \u001b[0;36mSyncAPIClient._request\u001b[1;34m(self, cast_to, options, remaining_retries, stream, stream_cls)\u001b[0m\n\u001b[0;32m    871\u001b[0m \u001b[39mexcept\u001b[39;00m httpx\u001b[39m.\u001b[39mHTTPStatusError \u001b[39mas\u001b[39;00m err:  \u001b[39m# thrown on 4xx and 5xx status code\u001b[39;00m\n\u001b[0;32m    872\u001b[0m     \u001b[39mif\u001b[39;00m retries \u001b[39m>\u001b[39m \u001b[39m0\u001b[39m \u001b[39mand\u001b[39;00m \u001b[39mself\u001b[39m\u001b[39m.\u001b[39m_should_retry(err\u001b[39m.\u001b[39mresponse):\n\u001b[1;32m--> 873\u001b[0m         \u001b[39mreturn\u001b[39;00m \u001b[39mself\u001b[39;49m\u001b[39m.\u001b[39;49m_retry_request(\n\u001b[0;32m    874\u001b[0m             options,\n\u001b[0;32m    875\u001b[0m             cast_to,\n\u001b[0;32m    876\u001b[0m             retries,\n\u001b[0;32m    877\u001b[0m             err\u001b[39m.\u001b[39;49mresponse\u001b[39m.\u001b[39;49mheaders,\n\u001b[0;32m    878\u001b[0m             stream\u001b[39m=\u001b[39;49mstream,\n\u001b[0;32m    879\u001b[0m             stream_cls\u001b[39m=\u001b[39;49mstream_cls,\n\u001b[0;32m    880\u001b[0m         )\n\u001b[0;32m    882\u001b[0m     \u001b[39m# If the response is streamed then we need to explicitly read the response\u001b[39;00m\n\u001b[0;32m    883\u001b[0m     \u001b[39m# to completion before attempting to access the response text.\u001b[39;00m\n\u001b[0;32m    884\u001b[0m     err\u001b[39m.\u001b[39mresponse\u001b[39m.\u001b[39mread()\n",
            "File \u001b[1;32mc:\\Users\\cuoir\\AppData\\Local\\Programs\\Python\\Python311\\Lib\\site-packages\\openai\\_base_client.py:933\u001b[0m, in \u001b[0;36mSyncAPIClient._retry_request\u001b[1;34m(self, options, cast_to, remaining_retries, response_headers, stream, stream_cls)\u001b[0m\n\u001b[0;32m    929\u001b[0m \u001b[39m# In a synchronous context we are blocking the entire thread. Up to the library user to run the client in a\u001b[39;00m\n\u001b[0;32m    930\u001b[0m \u001b[39m# different thread if necessary.\u001b[39;00m\n\u001b[0;32m    931\u001b[0m time\u001b[39m.\u001b[39msleep(timeout)\n\u001b[1;32m--> 933\u001b[0m \u001b[39mreturn\u001b[39;00m \u001b[39mself\u001b[39;49m\u001b[39m.\u001b[39;49m_request(\n\u001b[0;32m    934\u001b[0m     options\u001b[39m=\u001b[39;49moptions,\n\u001b[0;32m    935\u001b[0m     cast_to\u001b[39m=\u001b[39;49mcast_to,\n\u001b[0;32m    936\u001b[0m     remaining_retries\u001b[39m=\u001b[39;49mremaining,\n\u001b[0;32m    937\u001b[0m     stream\u001b[39m=\u001b[39;49mstream,\n\u001b[0;32m    938\u001b[0m     stream_cls\u001b[39m=\u001b[39;49mstream_cls,\n\u001b[0;32m    939\u001b[0m )\n",
            "File \u001b[1;32mc:\\Users\\cuoir\\AppData\\Local\\Programs\\Python\\Python311\\Lib\\site-packages\\openai\\_base_client.py:873\u001b[0m, in \u001b[0;36mSyncAPIClient._request\u001b[1;34m(self, cast_to, options, remaining_retries, stream, stream_cls)\u001b[0m\n\u001b[0;32m    871\u001b[0m \u001b[39mexcept\u001b[39;00m httpx\u001b[39m.\u001b[39mHTTPStatusError \u001b[39mas\u001b[39;00m err:  \u001b[39m# thrown on 4xx and 5xx status code\u001b[39;00m\n\u001b[0;32m    872\u001b[0m     \u001b[39mif\u001b[39;00m retries \u001b[39m>\u001b[39m \u001b[39m0\u001b[39m \u001b[39mand\u001b[39;00m \u001b[39mself\u001b[39m\u001b[39m.\u001b[39m_should_retry(err\u001b[39m.\u001b[39mresponse):\n\u001b[1;32m--> 873\u001b[0m         \u001b[39mreturn\u001b[39;00m \u001b[39mself\u001b[39;49m\u001b[39m.\u001b[39;49m_retry_request(\n\u001b[0;32m    874\u001b[0m             options,\n\u001b[0;32m    875\u001b[0m             cast_to,\n\u001b[0;32m    876\u001b[0m             retries,\n\u001b[0;32m    877\u001b[0m             err\u001b[39m.\u001b[39;49mresponse\u001b[39m.\u001b[39;49mheaders,\n\u001b[0;32m    878\u001b[0m             stream\u001b[39m=\u001b[39;49mstream,\n\u001b[0;32m    879\u001b[0m             stream_cls\u001b[39m=\u001b[39;49mstream_cls,\n\u001b[0;32m    880\u001b[0m         )\n\u001b[0;32m    882\u001b[0m     \u001b[39m# If the response is streamed then we need to explicitly read the response\u001b[39;00m\n\u001b[0;32m    883\u001b[0m     \u001b[39m# to completion before attempting to access the response text.\u001b[39;00m\n\u001b[0;32m    884\u001b[0m     err\u001b[39m.\u001b[39mresponse\u001b[39m.\u001b[39mread()\n",
            "File \u001b[1;32mc:\\Users\\cuoir\\AppData\\Local\\Programs\\Python\\Python311\\Lib\\site-packages\\openai\\_base_client.py:933\u001b[0m, in \u001b[0;36mSyncAPIClient._retry_request\u001b[1;34m(self, options, cast_to, remaining_retries, response_headers, stream, stream_cls)\u001b[0m\n\u001b[0;32m    929\u001b[0m \u001b[39m# In a synchronous context we are blocking the entire thread. Up to the library user to run the client in a\u001b[39;00m\n\u001b[0;32m    930\u001b[0m \u001b[39m# different thread if necessary.\u001b[39;00m\n\u001b[0;32m    931\u001b[0m time\u001b[39m.\u001b[39msleep(timeout)\n\u001b[1;32m--> 933\u001b[0m \u001b[39mreturn\u001b[39;00m \u001b[39mself\u001b[39;49m\u001b[39m.\u001b[39;49m_request(\n\u001b[0;32m    934\u001b[0m     options\u001b[39m=\u001b[39;49moptions,\n\u001b[0;32m    935\u001b[0m     cast_to\u001b[39m=\u001b[39;49mcast_to,\n\u001b[0;32m    936\u001b[0m     remaining_retries\u001b[39m=\u001b[39;49mremaining,\n\u001b[0;32m    937\u001b[0m     stream\u001b[39m=\u001b[39;49mstream,\n\u001b[0;32m    938\u001b[0m     stream_cls\u001b[39m=\u001b[39;49mstream_cls,\n\u001b[0;32m    939\u001b[0m )\n",
            "File \u001b[1;32mc:\\Users\\cuoir\\AppData\\Local\\Programs\\Python\\Python311\\Lib\\site-packages\\openai\\_base_client.py:885\u001b[0m, in \u001b[0;36mSyncAPIClient._request\u001b[1;34m(self, cast_to, options, remaining_retries, stream, stream_cls)\u001b[0m\n\u001b[0;32m    882\u001b[0m     \u001b[39m# If the response is streamed then we need to explicitly read the response\u001b[39;00m\n\u001b[0;32m    883\u001b[0m     \u001b[39m# to completion before attempting to access the response text.\u001b[39;00m\n\u001b[0;32m    884\u001b[0m     err\u001b[39m.\u001b[39mresponse\u001b[39m.\u001b[39mread()\n\u001b[1;32m--> 885\u001b[0m     \u001b[39mraise\u001b[39;00m \u001b[39mself\u001b[39m\u001b[39m.\u001b[39m_make_status_error_from_response(err\u001b[39m.\u001b[39mresponse) \u001b[39mfrom\u001b[39;00m \u001b[39mNone\u001b[39m\n\u001b[0;32m    886\u001b[0m \u001b[39mexcept\u001b[39;00m httpx\u001b[39m.\u001b[39mTimeoutException \u001b[39mas\u001b[39;00m err:\n\u001b[0;32m    887\u001b[0m     \u001b[39mif\u001b[39;00m retries \u001b[39m>\u001b[39m \u001b[39m0\u001b[39m:\n",
            "\u001b[1;31mRateLimitError\u001b[0m: Error code: 429 - {'error': {'message': 'You exceeded your current quota, please check your plan and billing details.', 'type': 'insufficient_quota', 'param': None, 'code': 'insufficient_quota'}}"
          ]
        }
      ],
      "source": [
        "for idx, sample in enumerate(data['data']):\n",
        "    message = sample[\"question\"]\n",
        "    for choice in sample[\"choices\"]:\n",
        "        message += f\"\\n{choice}\"\n",
        "\n",
        "    print(f\"At datapoint {idx}\\n\")\n",
        "    print(message,\"\\n\")\n",
        "\n",
        "    response = client.chat.completions.create(\n",
        "        model='gpt-3.5-turbo-16k',\n",
        "        messages=[\n",
        "            {\"role\": \"system\", \"content\": \"You are a helpful assistant that solves Vietnamese word math problem in the form of multi-choice questions, specifically you have to choose the one correct option among multiple options and your reply must contain no more information other than the chosen option itself.\"},\n",
        "            {\"role\": \"system\", \"name\":\"example_user\", \"content\": prime[0][0]},\n",
        "            {\"role\": \"system\", \"name\": \"example_assistant\", \"content\": prime[0][1]},\n",
        "            {\"role\": \"system\", \"name\":\"example_user\", \"content\": prime[1][0]},\n",
        "            {\"role\": \"system\", \"name\": \"example_assistant\", \"content\": prime[1][1]},\n",
        "            {\"role\": \"system\", \"name\":\"example_user\", \"content\": prime[2][0]},\n",
        "            {\"role\": \"system\", \"name\": \"example_assistant\", \"content\": prime[2][1]},\n",
        "            {\"role\": \"user\", \"content\": message},\n",
        "        ],\n",
        "        temperature=0,\n",
        "    )\n",
        "\n",
        "    chat_completions.append(response)\n",
        "    output = {}\n",
        "    output[\"answer\"] = response.choices[0].message.content\n",
        "    output[\"id\"] = sample[\"id\"]\n",
        "    print(output[\"answer\"], \"\\n\")\n",
        "    print(\"=================================================\\n\")\n",
        "    outputs.append(output)\n"
      ]
    },
    {
      "cell_type": "code",
      "execution_count": null,
      "metadata": {
        "colab": {
          "base_uri": "https://localhost:8080/"
        },
        "id": "KFi0_Mq-EE72",
        "outputId": "1dfce9ee-a3e8-4b78-a479-b7128a1b7efd"
      },
      "outputs": [
        {
          "data": {
            "text/plain": [
              "[{'id': '01-0203', 'answer': 'B. 45 000 000 đồng'},\n",
              " {'id': '01-0206', 'answer': 'A. 24 phút'},\n",
              " {'id': '01-0207', 'answer': 'B. 4 lần'},\n",
              " {'id': '01-0209', 'answer': 'C. 25%'},\n",
              " {'id': '01-0210', 'answer': 'B. 200m'},\n",
              " {'id': '01-0211', 'answer': 'B. 5,621'},\n",
              " {'id': '01-0214', 'answer': 'C. 40%'},\n",
              " {'id': '01-0219', 'answer': 'A. 7 giờ 17 phút'},\n",
              " {'id': '01-0221', 'answer': 'C. 0,75'},\n",
              " {'id': '01-0222', 'answer': 'C. 67,919'},\n",
              " {'id': '01-0223', 'answer': 'B. 24'},\n",
              " {'id': '01-0224', 'answer': 'D. 39870'},\n",
              " {'id': '01-0225', 'answer': 'C. \\\\frac{7}{100}'},\n",
              " {'id': '01-0227', 'answer': 'C. 5 chục'},\n",
              " {'id': '01-0232', 'answer': 'B. 15%'},\n",
              " {'id': '01-0234', 'answer': 'A. \\\\frac{1}{8}'},\n",
              " {'id': '01-0237', 'answer': 'C. 350'},\n",
              " {'id': '01-0239', 'answer': 'C. 5019'},\n",
              " {'id': '01-0240', 'answer': 'C. 0,18 giờ'},\n",
              " {'id': '01-0241', 'answer': 'A. 36,992'},\n",
              " {'id': '01-0243', 'answer': 'B. 500 000'},\n",
              " {'id': '01-0245', 'answer': 'C. 37,4'},\n",
              " {'id': '01-0246', 'answer': 'D. 10,5'},\n",
              " {'id': '01-0249', 'answer': 'B. 30,05'},\n",
              " {'id': '01-0254', 'answer': 'C. 90 phút'},\n",
              " {'id': '01-0256', 'answer': 'B. 30 dm^{2}'},\n",
              " {'id': '01-0257', 'answer': 'C. 28,26 dm'},\n",
              " {'id': '01-0258', 'answer': 'D. 12,56 cm^{2}'},\n",
              " {'id': '01-0259', 'answer': 'B. 13800 dm^{3}'},\n",
              " {'id': '01-0264', 'answer': 'A. 64%'},\n",
              " {'id': '01-0266', 'answer': 'D. 3,076'},\n",
              " {'id': '01-0268', 'answer': 'C. 201,700'},\n",
              " {'id': '01-0269', 'answer': 'D. 0,8'},\n",
              " {'id': '01-0273', 'answer': 'C. 30 phút'},\n",
              " {'id': '01-0275', 'answer': 'B. 0,75'},\n",
              " {'id': '01-0277', 'answer': 'C. 30 phút'},\n",
              " {'id': '01-0285', 'answer': 'D. 123,4'},\n",
              " {'id': '01-0292', 'answer': 'B. 8 phút 36 giây'},\n",
              " {'id': '01-0294', 'answer': 'B. 3,048'},\n",
              " {'id': '01-0296', 'answer': 'B. 330 học sinh'},\n",
              " {'id': '01-0302', 'answer': 'B. \\\\frac{1}{2}'},\n",
              " {'id': '01-0303', 'answer': 'C. 8'},\n",
              " {'id': '01-0305', 'answer': 'A. 7 cm'},\n",
              " {'id': '01-0314', 'answer': 'C. 663,64'},\n",
              " {'id': '01-0315', 'answer': 'A. 10dm'},\n",
              " {'id': '01-0316', 'answer': 'C. 55,017'},\n",
              " {'id': '01-0317', 'answer': 'B. 60%'},\n",
              " {'id': '01-0321', 'answer': 'A. \\\\frac{9}{10}'},\n",
              " {'id': '01-0322', 'answer': 'B. 4,8'},\n",
              " {'id': '01-0324', 'answer': 'B. 125 m^{3}'},\n",
              " {'id': '01-0326', 'answer': 'B. 0,6'},\n",
              " {'id': '01-0329', 'answer': 'C. 510 m/phút'},\n",
              " {'id': '01-0330', 'answer': 'A. 9998'},\n",
              " {'id': '01-0336', 'answer': 'B. 20'},\n",
              " {'id': '01-0337', 'answer': 'B. 3,82'},\n",
              " {'id': '01-0339', 'answer': 'A. 200 tạ'},\n",
              " {'id': '01-0340', 'answer': 'A. 5024 dm^{2}'},\n",
              " {'id': '01-0343', 'answer': 'A. 10dm'},\n",
              " {'id': '01-0346', 'answer': 'B. 55,072'},\n",
              " {'id': '01-0347', 'answer': 'B. 75%'},\n",
              " {'id': '01-0351', 'answer': 'D. 105,5'},\n",
              " {'id': '01-0353', 'answer': 'B. 55,17'},\n",
              " {'id': '01-0358', 'answer': 'B. 2,257'},\n",
              " {'id': '01-0362', 'answer': 'C. 3,5%'},\n",
              " {'id': '01-0364', 'answer': 'B. >'},\n",
              " {'id': '01-0373', 'answer': 'A. 23'},\n",
              " {'id': '01-0375', 'answer': 'C. 3046'},\n",
              " {'id': '01-0376', 'answer': 'A. 0,4 dm^{2}'},\n",
              " {'id': '01-0378', 'answer': 'A. 7'},\n",
              " {'id': '01-0380', 'answer': 'D. 47,1'},\n",
              " {'id': '01-0384', 'answer': 'B. 1,713'},\n",
              " {'id': '01-0386', 'answer': 'A. 45300 m^{2}'},\n",
              " {'id': '01-0387', 'answer': 'B. 1527,4'},\n",
              " {'id': '01-0389', 'answer': 'B. Trăm'},\n",
              " {'id': '01-0390', 'answer': 'D. 5'},\n",
              " {'id': '01-0391', 'answer': 'C. 150,07'},\n",
              " {'id': '01-0394', 'answer': 'C. 62,5%'},\n",
              " {'id': '01-0397', 'answer': 'C. 166'},\n",
              " {'id': '01-0398', 'answer': 'D. 2,06'},\n",
              " {'id': '01-0401', 'answer': 'B. 3,015 tấn'},\n",
              " {'id': '01-0403', 'answer': 'A. 1821,2'},\n",
              " {'id': '01-0405', 'answer': 'B. 9,80'},\n",
              " {'id': '01-0407', 'answer': 'A. 9 \\\\frac{6}{10}'},\n",
              " {'id': '01-0409', 'answer': 'A. 7 đơn vị'},\n",
              " {'id': '01-0410', 'answer': 'B. 4,53'},\n",
              " {'id': '01-0412', 'answer': 'B. 101.6'},\n",
              " {'id': '01-0413', 'answer': 'A. 9 phần nghìn'},\n",
              " {'id': '01-0420', 'answer': 'C. \\\\frac{5}{100}'},\n",
              " {'id': '01-0422', 'answer': 'C. 0,80'},\n",
              " {'id': '01-0423', 'answer': 'C. 11020 kg'},\n",
              " {'id': '01-0425', 'answer': 'C. 908'},\n",
              " {'id': '01-0429', 'answer': 'C. 8,60'},\n",
              " {'id': '01-0431', 'answer': 'A. 40,392'},\n",
              " {'id': '01-0432', 'answer': 'A. 75m^{2}'},\n",
              " {'id': '01-0433', 'answer': 'B. 0,03 kg'},\n",
              " {'id': '01-0434', 'answer': 'B. 0,0627 ha'},\n",
              " {'id': '01-0435', 'answer': 'B. 7,2m^{2}'},\n",
              " {'id': '01-0437', 'answer': 'C. 4,23; 4,32; 5,3; 5,7; 6,02'},\n",
              " {'id': '01-0449', 'answer': 'A. 75%'},\n",
              " {'id': '01-0454', 'answer': 'B. \\\\frac{27}{200}'},\n",
              " {'id': '01-0456', 'answer': 'D. 24900'},\n",
              " {'id': '01-0461', 'answer': 'B. 0,5'},\n",
              " {'id': '01-0463', 'answer': 'A. 900cm^{2}'},\n",
              " {'id': '01-0464', 'answer': 'D. 1924'},\n",
              " {'id': '01-0471', 'answer': 'C. 3,04'},\n",
              " {'id': '01-0472', 'answer': 'A. 750000'},\n",
              " {'id': '01-0474', 'answer': 'C. 23 \\\\frac{5}{10}'},\n",
              " {'id': '01-0476', 'answer': 'C. 3,009'},\n",
              " {'id': '01-0478', 'answer': 'C. \\\\frac{11}{5}'},\n",
              " {'id': '01-0480', 'answer': 'A. 3754'},\n",
              " {'id': '01-0483', 'answer': 'C. 6,732; 7; 7,009; 7,013'},\n",
              " {'id': '01-0484', 'answer': 'C. 83 000'},\n",
              " {'id': '01-0486', 'answer': 'C. 3,9'},\n",
              " {'id': '01-0488', 'answer': 'C. 240m^{2}'},\n",
              " {'id': '01-0490', 'answer': 'B. 5,02'},\n",
              " {'id': '01-0492', 'answer': 'C. 454,375'},\n",
              " {'id': '01-0493', 'answer': 'B. 35,6'},\n",
              " {'id': '01-0498', 'answer': 'B. 7,99'},\n",
              " {'id': '01-0499', 'answer': 'B. \\\\frac{17}{5}'},\n",
              " {'id': '01-0500', 'answer': 'A. Hàng chục'},\n",
              " {'id': '01-0502', 'answer': 'C. 6,90'},\n",
              " {'id': '01-0510', 'answer': 'B. 0,64%'},\n",
              " {'id': '01-0513', 'answer': 'B. 0,1'},\n",
              " {'id': '01-0518', 'answer': 'D. 14 kg'},\n",
              " {'id': '01-0519', 'answer': 'B. 2,24 lần'},\n",
              " {'id': '01-0525', 'answer': 'B. 1,5'},\n",
              " {'id': '01-0529', 'answer': 'B. 60 ngày'},\n",
              " {'id': '01-0536', 'answer': 'A. 324 dm^{3}'},\n",
              " {'id': '01-0538', 'answer': 'C. 663,64'},\n",
              " {'id': '01-0540', 'answer': 'A. 55,17'},\n",
              " {'id': '01-0545', 'answer': 'B. 3005'},\n",
              " {'id': '01-0551', 'answer': 'A. 1,15 phút'},\n",
              " {'id': '01-0552', 'answer': 'B. 32cm^{2}'},\n",
              " {'id': '01-0554', 'answer': 'A. 3,14 cm^{2}'},\n",
              " {'id': '01-0555', 'answer': 'C. 0,32'},\n",
              " {'id': '01-0556', 'answer': 'C. 2000'},\n",
              " {'id': '01-0561', 'answer': 'B. 18,806'},\n",
              " {'id': '01-0569', 'answer': 'B. 4,021 m^{3}'},\n",
              " {'id': '01-0572', 'answer': 'C. 450%'},\n",
              " {'id': '01-0574', 'answer': 'C. 66,7%'},\n",
              " {'id': '01-0575', 'answer': 'C. 3000 m^{2}'},\n",
              " {'id': '01-0576', 'answer': 'A. 36 km/giờ'},\n",
              " {'id': '01-0578', 'answer': 'B. 1 716'},\n",
              " {'id': '01-0585', 'answer': 'B. \\\\frac{5}{100}'},\n",
              " {'id': '01-0589', 'answer': 'B. 62,45'},\n",
              " {'id': '01-0590', 'answer': 'B. 1,7'},\n",
              " {'id': '01-0591', 'answer': 'A. 1,2'},\n",
              " {'id': '01-0595', 'answer': 'A. \\\\frac{8}{100}'},\n",
              " {'id': '01-0597', 'answer': 'C. 3600m^{2}'},\n",
              " {'id': '01-0598', 'answer': 'A. \\\\frac{17}{5}'},\n",
              " {'id': '01-0604', 'answer': 'C. 75%'},\n",
              " {'id': '01-0605', 'answer': 'B. 100'},\n",
              " {'id': '01-0607', 'answer': 'B. 13 hình tam giác'},\n",
              " {'id': '01-0609', 'answer': 'C. 6,90'},\n",
              " {'id': '01-0611', 'answer': 'D. 20,003'},\n",
              " {'id': '01-0614', 'answer': 'A. 0,375'},\n",
              " {'id': '01-0616', 'answer': 'B. 3,2%'},\n",
              " {'id': '01-0617', 'answer': 'B. 315cm^{2}'},\n",
              " {'id': '01-0622', 'answer': 'C. 7'},\n",
              " {'id': '01-0625', 'answer': 'C. 34,6'},\n",
              " {'id': '01-0626', 'answer': 'C. 9,952'},\n",
              " {'id': '01-0630', 'answer': 'D. 7,45'},\n",
              " {'id': '01-0631', 'answer': 'A. 744m^{2}'},\n",
              " {'id': '01-0637', 'answer': 'C. 0,001'},\n",
              " {'id': '01-0640', 'answer': 'C. 8750'},\n",
              " {'id': '01-0642', 'answer': 'B. \\\\frac{38}{15}'},\n",
              " {'id': '01-0643', 'answer': 'D. 1,003'},\n",
              " {'id': '01-0644', 'answer': 'B. 0,080'},\n",
              " {'id': '01-0645', 'answer': 'B. 4,321'},\n",
              " {'id': '01-0649', 'answer': 'A. 90%'},\n",
              " {'id': '01-0650', 'answer': 'D. 14400 đồng'},\n",
              " {'id': '01-0652', 'answer': 'B. 231'},\n",
              " {'id': '01-0653', 'answer': 'A. 69,101'},\n",
              " {'id': '01-0661', 'answer': 'A. 154 giờ'},\n",
              " {'id': '01-0663', 'answer': 'A. 70,54'},\n",
              " {'id': '01-0667', 'answer': 'D. 6 km'},\n",
              " {'id': '01-0670', 'answer': 'B. 110,5'},\n",
              " {'id': '01-0672', 'answer': 'B. 55,17'},\n",
              " {'id': '01-0678', 'answer': 'D. 8'},\n",
              " {'id': '01-0683', 'answer': 'B. 12,05'},\n",
              " {'id': '01-0687', 'answer': 'C. \\\\frac{9}{100}'},\n",
              " {'id': '01-0690', 'answer': 'C. 68,7'},\n",
              " {'id': '01-0691', 'answer': 'B. 50,789'},\n",
              " {'id': '01-0694', 'answer': 'C. 60%'},\n",
              " {'id': '01-0698', 'answer': 'C. 45,1'},\n",
              " {'id': '01-0703', 'answer': 'B. 37,5 %'},\n",
              " {'id': '01-0715', 'answer': 'B. 4,562'},\n",
              " {'id': '01-0716', 'answer': 'B. 3,04'},\n",
              " {'id': '01-0717', 'answer': 'A. 183 dm^{2}'}]"
            ]
          },
          "execution_count": 10,
          "metadata": {},
          "output_type": "execute_result"
        }
      ],
      "source": [
        "outs = []\n",
        "for sample, chat in zip(data['data'], chat_completions):\n",
        "    out = {}\n",
        "    out['id'] = sample['id']\n",
        "    out['answer'] = chat.choices[0].message.content\n",
        "    outs.append(out)\n",
        "outs"
      ]
    },
    {
      "cell_type": "code",
      "execution_count": null,
      "metadata": {
        "id": "wmrOvpg2757_"
      },
      "outputs": [],
      "source": [
        "import csv\n",
        "with open('submit_few_shot.csv', 'w') as csvfile:\n",
        "    writer = csv.DictWriter(csvfile, fieldnames=['id', 'answer'])\n",
        "    writer.writeheader()\n",
        "    writer.writerows(outs)"
      ]
    },
    {
      "cell_type": "code",
      "execution_count": null,
      "metadata": {
        "id": "fBocN27LFwc5"
      },
      "outputs": [],
      "source": [
        "import pickle\n",
        "with open(\"bin_few_shot_submit.dat\", \"wb\") as f:\n",
        "    pickle.dump(chat_completions, f)"
      ]
    }
  ],
  "metadata": {
    "colab": {
      "provenance": []
    },
    "kernelspec": {
      "display_name": "Python 3",
      "name": "python3"
    },
    "language_info": {
      "codemirror_mode": {
        "name": "ipython",
        "version": 3
      },
      "file_extension": ".py",
      "mimetype": "text/x-python",
      "name": "python",
      "nbconvert_exporter": "python",
      "pygments_lexer": "ipython3",
      "version": "3.11.3"
    }
  },
  "nbformat": 4,
  "nbformat_minor": 0
}

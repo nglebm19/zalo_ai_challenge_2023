{
  "nbformat": 4,
  "nbformat_minor": 0,
  "metadata": {
    "colab": {
      "provenance": []
    },
    "kernelspec": {
      "name": "python3",
      "display_name": "Python 3"
    },
    "language_info": {
      "name": "python"
    }
  },
  "cells": [
    {
      "cell_type": "code",
      "source": [
        "import numpy as np\n",
        "import json"
      ],
      "metadata": {
        "id": "l3rHrUlD-ztT"
      },
      "execution_count": null,
      "outputs": []
    },
    {
      "cell_type": "code",
      "source": [
        "with open(\"math_test.json\") as f:\n",
        "    data = json.load(f)"
      ],
      "metadata": {
        "id": "quxRGkqa4SYh"
      },
      "execution_count": null,
      "outputs": []
    },
    {
      "cell_type": "code",
      "source": [
        "outputs = []\n",
        "for idx, sample in enumerate(data['data']):\n",
        "    message = sample[\"question\"]\n",
        "    random_choice = np.random.default_rng(seed=idx).choice(len(sample[\"choices\"]), 1)\n",
        "    output = {}\n",
        "    output[\"answer\"] = sample[\"choices\"][random_choice[0]]\n",
        "    output[\"id\"] = sample[\"id\"]\n",
        "    outputs.append(output)\n"
      ],
      "metadata": {
        "id": "qfV7Ryxy--gZ"
      },
      "execution_count": null,
      "outputs": []
    },
    {
      "cell_type": "code",
      "source": [
        "import csv\n",
        "with open('submit_random_chance.csv', 'w') as csvfile:\n",
        "    writer = csv.DictWriter(csvfile, fieldnames=['id', 'answer'])\n",
        "    writer.writeheader()\n",
        "    writer.writerows(outputs)"
      ],
      "metadata": {
        "id": "KFi0_Mq-EE72"
      },
      "execution_count": null,
      "outputs": []
    }
  ]
}
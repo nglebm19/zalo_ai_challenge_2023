{
  "nbformat": 4,
  "nbformat_minor": 0,
  "metadata": {
    "colab": {
      "provenance": []
    },
    "kernelspec": {
      "name": "python3",
      "display_name": "Python 3"
    },
    "language_info": {
      "name": "python"
    }
  },
  "cells": [
    {
      "cell_type": "code",
      "execution_count": null,
      "metadata": {
        "id": "BsrgBA0_EMrS"
      },
      "outputs": [],
      "source": [
        "import json\n",
        "#with open(\"cot_one_shot_predict.json\") as f:\n",
        "#with open(\"cot_few_shot_predict.json\") as f:\n",
        "with open(\"cot_zero_shot_predict.json\") as f:\n",
        "    data = json.load(f)"
      ]
    },
    {
      "cell_type": "code",
      "source": [
        "def postprocess(text:str) -> str:\n",
        "    answer = text.split('Answer:')[-1].strip()\n",
        "    if answer[-1] == '.':\n",
        "        answer = answer[:-1]\n",
        "    return answer"
      ],
      "metadata": {
        "id": "sdlJNtN2EoJw"
      },
      "execution_count": null,
      "outputs": []
    },
    {
      "cell_type": "code",
      "source": [
        "new_outputs = []\n",
        "for output in data:\n",
        "    new_output = {}\n",
        "    new_output[\"id\"] = output[\"id\"]\n",
        "    new_output[\"answer\"] = postprocess(output[\"answer\"])\n",
        "    new_outputs.append(new_output)\n"
      ],
      "metadata": {
        "id": "9Xd1Hhi0FP8P"
      },
      "execution_count": null,
      "outputs": []
    },
    {
      "cell_type": "code",
      "source": [
        "import csv\n",
        "#with open('submit_cot_one_shot.csv', 'w') as csvfile:\n",
        "#with open('submit_cot_few_shot.csv', 'w') as csvfile:\n",
        "with open('submit_cot_zero_shot.csv', 'w') as csvfile:\n",
        "    writer = csv.DictWriter(csvfile, fieldnames=['id', 'answer'])\n",
        "    writer.writeheader()\n",
        "    writer.writerows(new_outputs)"
      ],
      "metadata": {
        "id": "YuY3Jwr4FyzH"
      },
      "execution_count": null,
      "outputs": []
    }
  ]
}